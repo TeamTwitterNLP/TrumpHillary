{
 "cells": [
  {
   "cell_type": "code",
   "execution_count": 1,
   "metadata": {},
   "outputs": [
    {
     "data": {
      "text/html": [
       "<div>\n",
       "<style scoped>\n",
       "    .dataframe tbody tr th:only-of-type {\n",
       "        vertical-align: middle;\n",
       "    }\n",
       "\n",
       "    .dataframe tbody tr th {\n",
       "        vertical-align: top;\n",
       "    }\n",
       "\n",
       "    .dataframe thead th {\n",
       "        text-align: right;\n",
       "    }\n",
       "</style>\n",
       "<table border=\"1\" class=\"dataframe\">\n",
       "  <thead>\n",
       "    <tr style=\"text-align: right;\">\n",
       "      <th></th>\n",
       "      <th>time</th>\n",
       "      <th>id</th>\n",
       "      <th>handle</th>\n",
       "      <th>text</th>\n",
       "      <th>is_retweet</th>\n",
       "      <th>original_author</th>\n",
       "      <th>in_reply_to_screen_name</th>\n",
       "      <th>in_reply_to_status_id</th>\n",
       "      <th>in_reply_to_user_id</th>\n",
       "      <th>is_quote_status</th>\n",
       "      <th>...</th>\n",
       "      <th>place_type</th>\n",
       "      <th>place_country_code</th>\n",
       "      <th>place_country</th>\n",
       "      <th>place_contained_within</th>\n",
       "      <th>place_attributes</th>\n",
       "      <th>place_bounding_box</th>\n",
       "      <th>source_url</th>\n",
       "      <th>truncated</th>\n",
       "      <th>entities</th>\n",
       "      <th>extended_entities</th>\n",
       "    </tr>\n",
       "  </thead>\n",
       "  <tbody>\n",
       "    <tr>\n",
       "      <td>0</td>\n",
       "      <td>9/28/2016 0:22</td>\n",
       "      <td>7.809260e+17</td>\n",
       "      <td>HillaryClinton</td>\n",
       "      <td>The question in this election Who can put the ...</td>\n",
       "      <td>False</td>\n",
       "      <td>NaN</td>\n",
       "      <td>NaN</td>\n",
       "      <td>NaN</td>\n",
       "      <td>NaN</td>\n",
       "      <td>False</td>\n",
       "      <td>...</td>\n",
       "      <td>NaN</td>\n",
       "      <td>NaN</td>\n",
       "      <td>NaN</td>\n",
       "      <td>NaN</td>\n",
       "      <td>NaN</td>\n",
       "      <td>NaN</td>\n",
       "      <td>https://studio.twitter.com</td>\n",
       "      <td>False</td>\n",
       "      <td>{'media': [{'display_url': 'pic.twitter.com/Xr...</td>\n",
       "      <td>{'media': [{'display_url': 'pic.twitter.com/Xr...</td>\n",
       "    </tr>\n",
       "    <tr>\n",
       "      <td>1</td>\n",
       "      <td>9/27/2016 23:08</td>\n",
       "      <td>7.809070e+17</td>\n",
       "      <td>HillaryClinton</td>\n",
       "      <td>If we stand together theres nothing we cant do...</td>\n",
       "      <td>False</td>\n",
       "      <td>NaN</td>\n",
       "      <td>NaN</td>\n",
       "      <td>NaN</td>\n",
       "      <td>NaN</td>\n",
       "      <td>False</td>\n",
       "      <td>...</td>\n",
       "      <td>NaN</td>\n",
       "      <td>NaN</td>\n",
       "      <td>NaN</td>\n",
       "      <td>NaN</td>\n",
       "      <td>NaN</td>\n",
       "      <td>NaN</td>\n",
       "      <td>https://studio.twitter.com</td>\n",
       "      <td>False</td>\n",
       "      <td>{'media': [{'display_url': 'pic.twitter.com/Q3...</td>\n",
       "      <td>{'media': [{'display_url': 'pic.twitter.com/Q3...</td>\n",
       "    </tr>\n",
       "    <tr>\n",
       "      <td>2</td>\n",
       "      <td>9/27/2016 22:30</td>\n",
       "      <td>7.808970e+17</td>\n",
       "      <td>HillaryClinton</td>\n",
       "      <td>Both candidates were asked about how theyd con...</td>\n",
       "      <td>False</td>\n",
       "      <td>NaN</td>\n",
       "      <td>NaN</td>\n",
       "      <td>NaN</td>\n",
       "      <td>NaN</td>\n",
       "      <td>False</td>\n",
       "      <td>...</td>\n",
       "      <td>NaN</td>\n",
       "      <td>NaN</td>\n",
       "      <td>NaN</td>\n",
       "      <td>NaN</td>\n",
       "      <td>NaN</td>\n",
       "      <td>NaN</td>\n",
       "      <td>https://about.twitter.com/products/tweetdeck</td>\n",
       "      <td>False</td>\n",
       "      <td>{'user_mentions': [], 'symbols': [], 'urls': [...</td>\n",
       "      <td>NaN</td>\n",
       "    </tr>\n",
       "    <tr>\n",
       "      <td>3</td>\n",
       "      <td>9/27/2016 22:13</td>\n",
       "      <td>7.808930e+17</td>\n",
       "      <td>realDonaldTrump</td>\n",
       "      <td>Join me for a 3pm rally tomorrow at the MidAme...</td>\n",
       "      <td>False</td>\n",
       "      <td>NaN</td>\n",
       "      <td>NaN</td>\n",
       "      <td>NaN</td>\n",
       "      <td>NaN</td>\n",
       "      <td>False</td>\n",
       "      <td>...</td>\n",
       "      <td>NaN</td>\n",
       "      <td>NaN</td>\n",
       "      <td>NaN</td>\n",
       "      <td>NaN</td>\n",
       "      <td>NaN</td>\n",
       "      <td>NaN</td>\n",
       "      <td>http://twitter.com/download/iphone</td>\n",
       "      <td>True</td>\n",
       "      <td>{'user_mentions': [], 'symbols': [], 'urls': [...</td>\n",
       "      <td>NaN</td>\n",
       "    </tr>\n",
       "    <tr>\n",
       "      <td>4</td>\n",
       "      <td>9/27/2016 21:35</td>\n",
       "      <td>7.808840e+17</td>\n",
       "      <td>HillaryClinton</td>\n",
       "      <td>This election is too important to sit out Go t...</td>\n",
       "      <td>False</td>\n",
       "      <td>NaN</td>\n",
       "      <td>NaN</td>\n",
       "      <td>NaN</td>\n",
       "      <td>NaN</td>\n",
       "      <td>False</td>\n",
       "      <td>...</td>\n",
       "      <td>NaN</td>\n",
       "      <td>NaN</td>\n",
       "      <td>NaN</td>\n",
       "      <td>NaN</td>\n",
       "      <td>NaN</td>\n",
       "      <td>NaN</td>\n",
       "      <td>https://about.twitter.com/products/tweetdeck</td>\n",
       "      <td>False</td>\n",
       "      <td>{'user_mentions': [], 'symbols': [], 'urls': [...</td>\n",
       "      <td>NaN</td>\n",
       "    </tr>\n",
       "  </tbody>\n",
       "</table>\n",
       "<p>5 rows × 28 columns</p>\n",
       "</div>"
      ],
      "text/plain": [
       "              time            id           handle  \\\n",
       "0   9/28/2016 0:22  7.809260e+17   HillaryClinton   \n",
       "1  9/27/2016 23:08  7.809070e+17   HillaryClinton   \n",
       "2  9/27/2016 22:30  7.808970e+17   HillaryClinton   \n",
       "3  9/27/2016 22:13  7.808930e+17  realDonaldTrump   \n",
       "4  9/27/2016 21:35  7.808840e+17   HillaryClinton   \n",
       "\n",
       "                                                text  is_retweet  \\\n",
       "0  The question in this election Who can put the ...       False   \n",
       "1  If we stand together theres nothing we cant do...       False   \n",
       "2  Both candidates were asked about how theyd con...       False   \n",
       "3  Join me for a 3pm rally tomorrow at the MidAme...       False   \n",
       "4  This election is too important to sit out Go t...       False   \n",
       "\n",
       "   original_author in_reply_to_screen_name  in_reply_to_status_id  \\\n",
       "0              NaN                     NaN                    NaN   \n",
       "1              NaN                     NaN                    NaN   \n",
       "2              NaN                     NaN                    NaN   \n",
       "3              NaN                     NaN                    NaN   \n",
       "4              NaN                     NaN                    NaN   \n",
       "\n",
       "   in_reply_to_user_id  is_quote_status  ... place_type  place_country_code  \\\n",
       "0                  NaN            False  ...        NaN                 NaN   \n",
       "1                  NaN            False  ...        NaN                 NaN   \n",
       "2                  NaN            False  ...        NaN                 NaN   \n",
       "3                  NaN            False  ...        NaN                 NaN   \n",
       "4                  NaN            False  ...        NaN                 NaN   \n",
       "\n",
       "   place_country  place_contained_within  place_attributes place_bounding_box  \\\n",
       "0            NaN                     NaN               NaN                NaN   \n",
       "1            NaN                     NaN               NaN                NaN   \n",
       "2            NaN                     NaN               NaN                NaN   \n",
       "3            NaN                     NaN               NaN                NaN   \n",
       "4            NaN                     NaN               NaN                NaN   \n",
       "\n",
       "                                     source_url truncated  \\\n",
       "0                    https://studio.twitter.com     False   \n",
       "1                    https://studio.twitter.com     False   \n",
       "2  https://about.twitter.com/products/tweetdeck     False   \n",
       "3            http://twitter.com/download/iphone      True   \n",
       "4  https://about.twitter.com/products/tweetdeck     False   \n",
       "\n",
       "                                            entities  \\\n",
       "0  {'media': [{'display_url': 'pic.twitter.com/Xr...   \n",
       "1  {'media': [{'display_url': 'pic.twitter.com/Q3...   \n",
       "2  {'user_mentions': [], 'symbols': [], 'urls': [...   \n",
       "3  {'user_mentions': [], 'symbols': [], 'urls': [...   \n",
       "4  {'user_mentions': [], 'symbols': [], 'urls': [...   \n",
       "\n",
       "                                   extended_entities  \n",
       "0  {'media': [{'display_url': 'pic.twitter.com/Xr...  \n",
       "1  {'media': [{'display_url': 'pic.twitter.com/Q3...  \n",
       "2                                                NaN  \n",
       "3                                                NaN  \n",
       "4                                                NaN  \n",
       "\n",
       "[5 rows x 28 columns]"
      ]
     },
     "execution_count": 1,
     "metadata": {},
     "output_type": "execute_result"
    }
   ],
   "source": [
    "import pandas as pd\n",
    "\n",
    "\n",
    "tweets=\"data/file_name.csv\"\n",
    "tweets_df = pd.read_csv(tweets)\n",
    "tweets_df.head()"
   ]
  },
  {
   "cell_type": "code",
   "execution_count": 2,
   "metadata": {},
   "outputs": [
    {
     "data": {
      "text/html": [
       "<div>\n",
       "<style scoped>\n",
       "    .dataframe tbody tr th:only-of-type {\n",
       "        vertical-align: middle;\n",
       "    }\n",
       "\n",
       "    .dataframe tbody tr th {\n",
       "        vertical-align: top;\n",
       "    }\n",
       "\n",
       "    .dataframe thead th {\n",
       "        text-align: right;\n",
       "    }\n",
       "</style>\n",
       "<table border=\"1\" class=\"dataframe\">\n",
       "  <thead>\n",
       "    <tr style=\"text-align: right;\">\n",
       "      <th></th>\n",
       "      <th>handle</th>\n",
       "      <th>text</th>\n",
       "    </tr>\n",
       "  </thead>\n",
       "  <tbody>\n",
       "    <tr>\n",
       "      <td>0</td>\n",
       "      <td>HillaryClinton</td>\n",
       "      <td>The question in this election Who can put the ...</td>\n",
       "    </tr>\n",
       "    <tr>\n",
       "      <td>1</td>\n",
       "      <td>HillaryClinton</td>\n",
       "      <td>If we stand together theres nothing we cant do...</td>\n",
       "    </tr>\n",
       "    <tr>\n",
       "      <td>2</td>\n",
       "      <td>HillaryClinton</td>\n",
       "      <td>Both candidates were asked about how theyd con...</td>\n",
       "    </tr>\n",
       "    <tr>\n",
       "      <td>3</td>\n",
       "      <td>realDonaldTrump</td>\n",
       "      <td>Join me for a 3pm rally tomorrow at the MidAme...</td>\n",
       "    </tr>\n",
       "    <tr>\n",
       "      <td>4</td>\n",
       "      <td>HillaryClinton</td>\n",
       "      <td>This election is too important to sit out Go t...</td>\n",
       "    </tr>\n",
       "  </tbody>\n",
       "</table>\n",
       "</div>"
      ],
      "text/plain": [
       "            handle                                               text\n",
       "0   HillaryClinton  The question in this election Who can put the ...\n",
       "1   HillaryClinton  If we stand together theres nothing we cant do...\n",
       "2   HillaryClinton  Both candidates were asked about how theyd con...\n",
       "3  realDonaldTrump  Join me for a 3pm rally tomorrow at the MidAme...\n",
       "4   HillaryClinton  This election is too important to sit out Go t..."
      ]
     },
     "execution_count": 2,
     "metadata": {},
     "output_type": "execute_result"
    }
   ],
   "source": [
    "#only take handle and text columns\n",
    "new_df=tweets_df[['handle','text']]\n",
    "\n",
    "new_df.head()"
   ]
  },
  {
   "cell_type": "code",
   "execution_count": 3,
   "metadata": {
    "scrolled": true
   },
   "outputs": [
    {
     "data": {
      "text/html": [
       "<div>\n",
       "<style scoped>\n",
       "    .dataframe tbody tr th:only-of-type {\n",
       "        vertical-align: middle;\n",
       "    }\n",
       "\n",
       "    .dataframe tbody tr th {\n",
       "        vertical-align: top;\n",
       "    }\n",
       "\n",
       "    .dataframe thead th {\n",
       "        text-align: right;\n",
       "    }\n",
       "</style>\n",
       "<table border=\"1\" class=\"dataframe\">\n",
       "  <thead>\n",
       "    <tr style=\"text-align: right;\">\n",
       "      <th></th>\n",
       "      <th>handle</th>\n",
       "      <th>text</th>\n",
       "    </tr>\n",
       "  </thead>\n",
       "  <tbody>\n",
       "    <tr>\n",
       "      <td>0</td>\n",
       "      <td>1</td>\n",
       "      <td>The question in this election Who can put the ...</td>\n",
       "    </tr>\n",
       "    <tr>\n",
       "      <td>1</td>\n",
       "      <td>1</td>\n",
       "      <td>If we stand together theres nothing we cant do...</td>\n",
       "    </tr>\n",
       "    <tr>\n",
       "      <td>2</td>\n",
       "      <td>1</td>\n",
       "      <td>Both candidates were asked about how theyd con...</td>\n",
       "    </tr>\n",
       "    <tr>\n",
       "      <td>3</td>\n",
       "      <td>0</td>\n",
       "      <td>Join me for a 3pm rally tomorrow at the MidAme...</td>\n",
       "    </tr>\n",
       "    <tr>\n",
       "      <td>4</td>\n",
       "      <td>1</td>\n",
       "      <td>This election is too important to sit out Go t...</td>\n",
       "    </tr>\n",
       "  </tbody>\n",
       "</table>\n",
       "</div>"
      ],
      "text/plain": [
       "   handle                                               text\n",
       "0       1  The question in this election Who can put the ...\n",
       "1       1  If we stand together theres nothing we cant do...\n",
       "2       1  Both candidates were asked about how theyd con...\n",
       "3       0  Join me for a 3pm rally tomorrow at the MidAme...\n",
       "4       1  This election is too important to sit out Go t..."
      ]
     },
     "execution_count": 3,
     "metadata": {},
     "output_type": "execute_result"
    }
   ],
   "source": [
    "#convert handle into label 0 or 1\n",
    "mapping = {'realDonaldTrump': 0, 'HillaryClinton': 1}\n",
    "\n",
    "new_df2=new_df.replace({'handle': mapping})\n",
    "\n",
    "new_df2.head()"
   ]
  },
  {
   "cell_type": "code",
   "execution_count": 4,
   "metadata": {},
   "outputs": [],
   "source": [
    "#drop any null colomuns\n",
    "new_df2drop=new_df2.dropna()"
   ]
  },
  {
   "cell_type": "code",
   "execution_count": 5,
   "metadata": {},
   "outputs": [],
   "source": [
    "#use below code to download and install NLTK package\n",
    "\n",
    "#import nltk\n",
    "#nltk.download()"
   ]
  },
  {
   "cell_type": "code",
   "execution_count": 6,
   "metadata": {},
   "outputs": [
    {
     "name": "stdout",
     "output_type": "stream",
     "text": [
      "['Great', 'afternoon', 'Little', 'Havana', 'Hispanic', 'community', 'leaders', 'Thank', 'support!', 'ImWithYou']\n"
     ]
    }
   ],
   "source": [
    "#remove stopwords\n",
    "from nltk.corpus import stopwords\n",
    "\n",
    "def no_user_alpha(tweet):\n",
    "        clean_mess = [word for word in tweet.split() if word.lower() not in stopwords.words('english')]\n",
    "        return clean_mess\n",
    "\n",
    "   \n",
    "\n"
   ]
  },
  {
   "cell_type": "code",
   "execution_count": 7,
   "metadata": {},
   "outputs": [],
   "source": [
    "\n",
    "import sys\n",
    "import argparse\n",
    "import logging\n",
    "from logging import critical, error, info, warning, debug\n",
    "\n",
    "import numpy as np\n",
    "import seaborn as sn\n",
    "import pandas as pd\n",
    "import random\n",
    "\n",
    "from sklearn.metrics import accuracy_score, classification_report, confusion_matrix\n",
    "from sklearn.feature_extraction.text import CountVectorizer, TfidfVectorizer, TfidfTransformer\n",
    "from sklearn.naive_bayes import MultinomialNB\n",
    "from sklearn.pipeline import Pipeline, FeatureUnion\n",
    "from sklearn.base import BaseEstimator, TransformerMixin\n",
    "from sklearn.feature_extraction import DictVectorizer\n",
    "from nltk.stem.wordnet import WordNetLemmatizer\n",
    "from sklearn.model_selection import train_test_split\n",
    "\n"
   ]
  },
  {
   "cell_type": "code",
   "execution_count": 8,
   "metadata": {},
   "outputs": [
    {
     "data": {
      "text/plain": [
       "0       1\n",
       "1       1\n",
       "2       1\n",
       "3       0\n",
       "4       1\n",
       "       ..\n",
       "5643    0\n",
       "5644    0\n",
       "5645    0\n",
       "5646    0\n",
       "5647    0\n",
       "Name: handle, Length: 5645, dtype: int64"
      ]
     },
     "execution_count": 8,
     "metadata": {},
     "output_type": "execute_result"
    }
   ],
   "source": [
    "X = new_df2drop['text']\n",
    "y = new_df2drop['handle']\n",
    "\n",
    "y"
   ]
  },
  {
   "cell_type": "code",
   "execution_count": 9,
   "metadata": {},
   "outputs": [],
   "source": [
    "msg_train, msg_test, label_train, label_test = train_test_split(new_df2drop['text'], new_df2drop['handle'], test_size=0.2)"
   ]
  },
  {
   "cell_type": "code",
   "execution_count": 10,
   "metadata": {},
   "outputs": [
    {
     "data": {
      "text/plain": [
       "Pipeline(memory=None,\n",
       "         steps=[('bow',\n",
       "                 CountVectorizer(analyzer=<function no_user_alpha at 0x000001F13904A8B8>,\n",
       "                                 binary=False, decode_error='strict',\n",
       "                                 dtype=<class 'numpy.int64'>, encoding='utf-8',\n",
       "                                 input='content', lowercase=True, max_df=1.0,\n",
       "                                 max_features=None, min_df=1,\n",
       "                                 ngram_range=(1, 1), preprocessor=None,\n",
       "                                 stop_words=None, strip_accents=None,\n",
       "                                 token_pattern='(?u)\\\\b\\\\w\\\\w+\\\\b',\n",
       "                                 tokenizer=None, vocabulary=None)),\n",
       "                ('tfidf',\n",
       "                 TfidfTransformer(norm='l2', smooth_idf=True,\n",
       "                                  sublinear_tf=False, use_idf=True)),\n",
       "                ('classifier',\n",
       "                 MultinomialNB(alpha=1.0, class_prior=None, fit_prior=True))],\n",
       "         verbose=False)"
      ]
     },
     "execution_count": 10,
     "metadata": {},
     "output_type": "execute_result"
    }
   ],
   "source": [
    "pipeline = Pipeline([\n",
    "    ('bow',CountVectorizer(analyzer=no_user_alpha)),  # strings to token integer counts\n",
    "    ('tfidf', TfidfTransformer()),  # integer counts to weighted TF-IDF scores\n",
    "    ('classifier', MultinomialNB()),  # train on TF-IDF vectors w/ Naive Bayes classifier\n",
    "])\n",
    "pipeline.fit(msg_train,label_train)"
   ]
  },
  {
   "cell_type": "code",
   "execution_count": 11,
   "metadata": {},
   "outputs": [
    {
     "name": "stdout",
     "output_type": "stream",
     "text": [
      "              precision    recall  f1-score   support\n",
      "\n",
      "           0       0.93      0.95      0.94       602\n",
      "           1       0.95      0.92      0.93       527\n",
      "\n",
      "    accuracy                           0.94      1129\n",
      "   macro avg       0.94      0.93      0.94      1129\n",
      "weighted avg       0.94      0.94      0.94      1129\n",
      "\n",
      "\n",
      "\n",
      "[[574  28]\n",
      " [ 44 483]]\n",
      "0.9362267493356953\n"
     ]
    }
   ],
   "source": [
    "\n",
    "predictions = pipeline.predict(msg_test)\n",
    "\n",
    "print(classification_report(predictions,label_test))\n",
    "print ('\\n')\n",
    "print(confusion_matrix(predictions,label_test))\n",
    "print(accuracy_score(predictions,label_test))"
   ]
  },
  {
   "cell_type": "code",
   "execution_count": 118,
   "metadata": {},
   "outputs": [
    {
     "data": {
      "text/html": [
       "<div>\n",
       "<style scoped>\n",
       "    .dataframe tbody tr th:only-of-type {\n",
       "        vertical-align: middle;\n",
       "    }\n",
       "\n",
       "    .dataframe tbody tr th {\n",
       "        vertical-align: top;\n",
       "    }\n",
       "\n",
       "    .dataframe thead th {\n",
       "        text-align: right;\n",
       "    }\n",
       "</style>\n",
       "<table border=\"1\" class=\"dataframe\">\n",
       "  <thead>\n",
       "    <tr style=\"text-align: right;\">\n",
       "      <th></th>\n",
       "      <th>handle</th>\n",
       "      <th>text</th>\n",
       "    </tr>\n",
       "  </thead>\n",
       "  <tbody>\n",
       "    <tr>\n",
       "      <td>0</td>\n",
       "      <td>0</td>\n",
       "      <td>Libya</td>\n",
       "    </tr>\n",
       "  </tbody>\n",
       "</table>\n",
       "</div>"
      ],
      "text/plain": [
       "   handle   text\n",
       "0       0  Libya"
      ]
     },
     "execution_count": 118,
     "metadata": {},
     "output_type": "execute_result"
    }
   ],
   "source": [
    "newtweet2=\"Libya\"\n",
    "\n",
    "newtweet = {'handle':  [0],\n",
    "        'text': newtweet2}\n",
    "\n",
    "newtweetdf= pd.DataFrame (newtweet, columns = ['handle','text'])\n",
    "\n",
    "newtweetdf\n"
   ]
  },
  {
   "cell_type": "code",
   "execution_count": 119,
   "metadata": {},
   "outputs": [
    {
     "name": "stdout",
     "output_type": "stream",
     "text": [
      "0\n",
      "[[0.65337103 0.34662897]]\n"
     ]
    }
   ],
   "source": [
    "\n",
    "predictions = pipeline.predict(newtweetdf['text'])\n",
    "#print(confusion_matrix(predictions,label_test))\n",
    "probability = pipeline.predict_proba(newtweetdf['text'])\n",
    "TrumpHillaryScore=predictions[0]\n",
    "\n",
    "print(TrumpHillaryScore)\n",
    "\n",
    "#print(accuracy_score(predictions,1))\n",
    "print(probability)"
   ]
  },
  {
   "cell_type": "code",
   "execution_count": 120,
   "metadata": {},
   "outputs": [
    {
     "name": "stderr",
     "output_type": "stream",
     "text": [
      "C:\\Users\\Nabil\\Anaconda3\\lib\\site-packages\\sklearn\\externals\\joblib\\__init__.py:15: DeprecationWarning: sklearn.externals.joblib is deprecated in 0.21 and will be removed in 0.23. Please import this functionality directly from joblib, which can be installed with: pip install joblib. If this warning is raised when loading pickled models, you may need to re-serialize those models with scikit-learn 0.21+.\n",
      "  warnings.warn(msg, category=DeprecationWarning)\n"
     ]
    },
    {
     "data": {
      "text/plain": [
       "['scaler.save']"
      ]
     },
     "execution_count": 120,
     "metadata": {},
     "output_type": "execute_result"
    }
   ],
   "source": [
    "from sklearn.externals import joblib\n",
    "scaler_filename = \"scaler.save\"\n",
    "joblib.dump(pipeline, scaler_filename) "
   ]
  }
 ],
 "metadata": {
  "kernelspec": {
   "display_name": "Python 3",
   "language": "python",
   "name": "python3"
  },
  "language_info": {
   "codemirror_mode": {
    "name": "ipython",
    "version": 3
   },
   "file_extension": ".py",
   "mimetype": "text/x-python",
   "name": "python",
   "nbconvert_exporter": "python",
   "pygments_lexer": "ipython3",
   "version": "3.7.4"
  }
 },
 "nbformat": 4,
 "nbformat_minor": 2
}
