{
  "nbformat": 4,
  "nbformat_minor": 0,
  "metadata": {
    "colab": {
      "name": "hillarytrump.ipynb",
      "provenance": [],
      "collapsed_sections": []
    },
    "kernel_info": {
      "name": "python3"
    },
    "kernelspec": {
      "display_name": "Python 3",
      "language": "python",
      "name": "python3"
    },
    "language_info": {
      "codemirror_mode": {
        "name": "ipython",
        "version": 3
      },
      "file_extension": ".py",
      "mimetype": "text/x-python",
      "name": "python",
      "nbconvert_exporter": "python",
      "pygments_lexer": "ipython3",
      "version": "3.6.8"
    },
    "latex_envs": {
      "LaTeX_envs_menu_present": true,
      "autoclose": false,
      "autocomplete": true,
      "bibliofile": "biblio.bib",
      "cite_by": "apalike",
      "current_citInitial": 1,
      "eqLabelWithNumbers": true,
      "eqNumInitial": 1,
      "hotkeys": {
        "equation": "Ctrl-E",
        "itemize": "Ctrl-I"
      },
      "labels_anchors": false,
      "latex_user_defs": false,
      "report_style_numbering": false,
      "user_envs_cfg": false
    },
    "nteract": {
      "version": "0.11.2"
    },
    "varInspector": {
      "cols": {
        "lenName": 16,
        "lenType": 16,
        "lenVar": 40
      },
      "kernels_config": {
        "python": {
          "delete_cmd_postfix": "",
          "delete_cmd_prefix": "del ",
          "library": "var_list.py",
          "varRefreshCmd": "print(var_dic_list())"
        },
        "r": {
          "delete_cmd_postfix": ") ",
          "delete_cmd_prefix": "rm(",
          "library": "var_list.r",
          "varRefreshCmd": "cat(var_dic_list()) "
        }
      },
      "types_to_exclude": [
        "module",
        "function",
        "builtin_function_or_method",
        "instance",
        "_Feature"
      ],
      "window_display": false
    }
  },
  "cells": [
    {
      "cell_type": "code",
      "metadata": {
        "colab_type": "code",
        "id": "rUVgL1wNNajZ",
        "colab": {}
      },
      "source": [
        "# Install Java, Spark, and Findspark\n",
        "!apt-get install openjdk-8-jdk-headless -qq > /dev/null\n",
        "!wget -q http://www-us.apache.org/dist/spark/spark-2.4.6/spark-2.4.6-bin-hadoop2.7.tgz\n",
        "!tar xf spark-2.4.6-bin-hadoop2.7.tgz\n",
        "!pip install -q findspark\n",
        "\n",
        "# Set Environment Variables\n",
        "import os\n",
        "os.environ[\"JAVA_HOME\"] = \"/usr/lib/jvm/java-8-openjdk-amd64\"\n",
        "os.environ[\"SPARK_HOME\"] = \"/content/spark-2.4.6-bin-hadoop2.7\"\n",
        "\n",
        "# Start a SparkSession\n",
        "import findspark\n",
        "findspark.init()"
      ],
      "execution_count": 1,
      "outputs": []
    },
    {
      "cell_type": "code",
      "metadata": {
        "id": "xRVKWTyqQiFV",
        "colab_type": "code",
        "colab": {}
      },
      "source": [
        "# Start Spark session\n",
        "from pyspark.sql import SparkSession\n",
        "spark = SparkSession.builder.appName(\"NaiveBayes\").getOrCreate()"
      ],
      "execution_count": 2,
      "outputs": []
    },
    {
      "cell_type": "code",
      "metadata": {
        "colab_type": "code",
        "id": "qnI0zdY5NYCJ",
        "colab": {
          "base_uri": "https://localhost:8080/",
          "height": 1000
        },
        "outputId": "e4a0b045-1e2c-4781-bb95-99d8cc43b17c"
      },
      "source": [
        "# Read in data from S3 Buckets\n",
        "from pyspark import SparkFiles\n",
        "url =\"https://trumphillary.s3.us-east-2.amazonaws.com/file_name.csv\"\n",
        "spark.sparkContext.addFile(url)\n",
        "df = spark.read.csv(SparkFiles.get(\"file_name.csv\"), sep=\",\", header=True)\n",
        "\n",
        "# Show DataFrame\n",
        "df.show()\n",
        "df=df.select(['handle', 'text'])\n",
        "df.show()\n",
        "df=df.na.drop()\n",
        "df.show()"
      ],
      "execution_count": 3,
      "outputs": [
        {
          "output_type": "stream",
          "text": [
            "+-------------------+------------------+---------------+--------------------+----------+---------------+-----------------------+---------------------+-------------------+---------------+----+-------------+--------------+---------+--------+--------+---------------+----------+----------+------------------+-------------+----------------------+----------------+------------------+--------------------+---------+--------------------+--------------------+\n",
            "|               time|                id|         handle|                text|is_retweet|original_author|in_reply_to_screen_name|in_reply_to_status_id|in_reply_to_user_id|is_quote_status|lang|retweet_count|favorite_count|longitude|latitude|place_id|place_full_name|place_name|place_type|place_country_code|place_country|place_contained_within|place_attributes|place_bounding_box|          source_url|truncated|            entities|   extended_entities|\n",
            "+-------------------+------------------+---------------+--------------------+----------+---------------+-----------------------+---------------------+-------------------+---------------+----+-------------+--------------+---------+--------+--------+---------------+----------+----------+------------------+-------------+----------------------+----------------+------------------+--------------------+---------+--------------------+--------------------+\n",
            "|2016-09-28 00:22:34|780925634159796224| HillaryClinton|The question in t...|     False|           null|                   null|                 null|               null|          False|  en|          218|           651|     null|    null|    null|           null|      null|      null|              null|         null|                  null|            null|              null|https://studio.tw...|    False|{'media': [{'disp...|{'media': [{'disp...|\n",
            "|2016-09-27 23:08:41|780907038650068994| HillaryClinton|If we stand toget...|     False|           null|                   null|                 null|               null|          False|  en|          916|          2542|     null|    null|    null|           null|      null|      null|              null|         null|                  null|            null|              null|https://studio.tw...|    False|{'media': [{'disp...|{'media': [{'disp...|\n",
            "|2016-09-27 22:30:27|780897419462602752| HillaryClinton|Both candidates w...|     False|           null|                   null|                 null|               null|          False|  en|          859|          2882|     null|    null|    null|           null|      null|      null|              null|         null|                  null|            null|              null|https://about.twi...|    False|{'user_mentions':...|                null|\n",
            "|2016-09-27 22:13:24|780893126605037568|realDonaldTrump|Join me for a 3pm...|     False|           null|                   null|                 null|               null|          False|  en|         2181|          6172|     null|    null|    null|           null|      null|      null|              null|         null|                  null|            null|              null|http://twitter.co...|     True|{'user_mentions':...|                null|\n",
            "|2016-09-27 21:35:28|780883582051123200| HillaryClinton|This election is ...|     False|           null|                   null|                 null|               null|          False|  en|         1303|          2849|     null|    null|    null|           null|      null|      null|              null|         null|                  null|            null|              null|https://about.twi...|    False|{'user_mentions':...|                null|\n",
            "|2016-09-27 21:25:31|780881075891531776| HillaryClinton|When Donald Trump...|     False|           null|                   null|                 null|               null|          False|  en|         1833|          4954|     null|    null|    null|           null|      null|      null|              null|         null|                  null|            null|              null|https://about.twi...|    False|{'media': [{'disp...|{'media': [{'disp...|\n",
            "|2016-09-27 21:08:22|780876760086880256|realDonaldTrump|Once again we wil...|     False|           null|                   null|                 null|               null|          False|  en|         4132|         11239|     null|    null|    null|           null|      null|      null|              null|         null|                  null|            null|              null|http://twitter.co...|    False|{'media': [{'disp...|{'media': [{'disp...|\n",
            "|2016-09-27 20:14:33|780863218646474757|realDonaldTrump|Hillary Clintons ...|     False|           null|                   null|                 null|               null|          False|  en|         3833|          9840|     null|    null|    null|           null|      null|      null|              null|         null|                  null|            null|              null|http://twitter.co...|    False|{'user_mentions':...|                null|\n",
            "|2016-09-27 20:06:25|780861171238834176|realDonaldTrump|CNBC Time magazin...|     False|           null|                   null|                 null|               null|          False|  en|         4236|         10948|     null|    null|    null|           null|      null|      null|              null|         null|                  null|            null|              null|http://twitter.co...|    False|{'user_mentions':...|                null|\n",
            "|2016-09-27 19:59:28|780859420846727168| HillaryClinton|Donald Trump lied...|     False|           null|                   null|                 null|               null|          False|  en|         5379|          8917|     null|    null|    null|           null|      null|      null|              null|         null|                  null|            null|              null|https://about.twi...|    False|{'user_mentions':...|                null|\n",
            "|2016-09-27 19:59:04|780859319319400448|realDonaldTrump|Great afternoon i...|     False|           null|                   null|                 null|               null|          False|  en|         4878|         14110|     null|    null|    null|           null|      null|      null|              null|         null|                  null|            null|              null|http://twitter.co...|    False|{'media': [{'disp...|{'media': [{'disp...|\n",
            "|2016-09-27 19:37:22|780853860135006211|realDonaldTrump|In the last 24 hr...|     False|           null|                   null|                 null|               null|          False|  en|         6939|         23330|     null|    null|    null|           null|      null|      null|              null|         null|                  null|            null|              null|http://twitter.co...|    False|{'user_mentions':...|                null|\n",
            "|2016-09-27 19:31:01|780852261442445312| HillaryClinton|She gained about ...|     False|           null|                   null|                 null|               null|          False|  en|         2058|          3714|     null|    null|    null|           null|      null|      null|              null|         null|                  null|            null|              null|https://about.twi...|    False|{'user_mentions':...|                null|\n",
            "|2016-09-27 18:45:39|780840847256453120| HillaryClinton|Its NationalVoter...|     False|           null|                   null|                 null|               null|          False|  en|         1792|          3500|     null|    null|    null|           null|      null|      null|              null|         null|                  null|            null|              null|https://about.twi...|    False|{'media': [{'disp...|{'media': [{'disp...|\n",
            "|2016-09-27 18:12:06|780832403392790529| HillaryClinton|I love this count...|     False|           null|         HillaryClinton| 7.808319012044841...|       1339835893.0|          False|  en|         1437|          5053|     null|    null|    null|           null|      null|      null|              null|         null|                  null|            null|              null|https://about.twi...|    False|{'user_mentions':...|                null|\n",
            "|2016-09-27 18:10:07|780831901204484097| HillaryClinton|We dont want to t...|     False|           null|         HillaryClinton| 7.808309842625167...|       1339835893.0|          False|  en|          976|          3313|     null|    null|    null|           null|      null|      null|              null|         null|                  null|            null|              null|https://about.twi...|    False|{'user_mentions':...|                null|\n",
            "|2016-09-27 18:06:28|780830984262516736| HillaryClinton|What we hear from...|     False|           null|         HillaryClinton| 7.80830087457407e+17|       1339835893.0|          False|  en|          957|          2968|     null|    null|    null|           null|      null|      null|              null|         null|                  null|            null|              null|https://about.twi...|    False|{'user_mentions':...|                null|\n",
            "|2016-09-27 18:05:27|780830729760485378| HillaryClinton|One candidate mad...|     False|           null|                   null|                 null|               null|          False|  en|         3336|          9961|     null|    null|    null|           null|      null|      null|              null|         null|                  null|            null|              null|https://studio.tw...|     True|{'user_mentions':...|                null|\n",
            "|2016-09-27 18:02:54|780830087457406980| HillaryClinton|What kind of a pe...|     False|           null|         HillaryClinton| 7.808289169195049...|       1339835893.0|          False|  en|         1127|          3216|     null|    null|    null|           null|      null|      null|              null|         null|                  null|            null|              null|https://about.twi...|    False|{'user_mentions':...|                null|\n",
            "|2016-09-27 17:58:15|780828916919504896| HillaryClinton|I dont think that...|     False|           null|         HillaryClinton| 7.808282060395028...|       1339835893.0|          False|  en|          586|          1681|     null|    null|    null|           null|      null|      null|              null|         null|                  null|            null|              null|https://about.twi...|    False|{'user_mentions':...|                null|\n",
            "+-------------------+------------------+---------------+--------------------+----------+---------------+-----------------------+---------------------+-------------------+---------------+----+-------------+--------------+---------+--------+--------+---------------+----------+----------+------------------+-------------+----------------------+----------------+------------------+--------------------+---------+--------------------+--------------------+\n",
            "only showing top 20 rows\n",
            "\n",
            "+---------------+--------------------+\n",
            "|         handle|                text|\n",
            "+---------------+--------------------+\n",
            "| HillaryClinton|The question in t...|\n",
            "| HillaryClinton|If we stand toget...|\n",
            "| HillaryClinton|Both candidates w...|\n",
            "|realDonaldTrump|Join me for a 3pm...|\n",
            "| HillaryClinton|This election is ...|\n",
            "| HillaryClinton|When Donald Trump...|\n",
            "|realDonaldTrump|Once again we wil...|\n",
            "|realDonaldTrump|Hillary Clintons ...|\n",
            "|realDonaldTrump|CNBC Time magazin...|\n",
            "| HillaryClinton|Donald Trump lied...|\n",
            "|realDonaldTrump|Great afternoon i...|\n",
            "|realDonaldTrump|In the last 24 hr...|\n",
            "| HillaryClinton|She gained about ...|\n",
            "| HillaryClinton|Its NationalVoter...|\n",
            "| HillaryClinton|I love this count...|\n",
            "| HillaryClinton|We dont want to t...|\n",
            "| HillaryClinton|What we hear from...|\n",
            "| HillaryClinton|One candidate mad...|\n",
            "| HillaryClinton|What kind of a pe...|\n",
            "| HillaryClinton|I dont think that...|\n",
            "+---------------+--------------------+\n",
            "only showing top 20 rows\n",
            "\n",
            "+---------------+--------------------+\n",
            "|         handle|                text|\n",
            "+---------------+--------------------+\n",
            "| HillaryClinton|The question in t...|\n",
            "| HillaryClinton|If we stand toget...|\n",
            "| HillaryClinton|Both candidates w...|\n",
            "|realDonaldTrump|Join me for a 3pm...|\n",
            "| HillaryClinton|This election is ...|\n",
            "| HillaryClinton|When Donald Trump...|\n",
            "|realDonaldTrump|Once again we wil...|\n",
            "|realDonaldTrump|Hillary Clintons ...|\n",
            "|realDonaldTrump|CNBC Time magazin...|\n",
            "| HillaryClinton|Donald Trump lied...|\n",
            "|realDonaldTrump|Great afternoon i...|\n",
            "|realDonaldTrump|In the last 24 hr...|\n",
            "| HillaryClinton|She gained about ...|\n",
            "| HillaryClinton|Its NationalVoter...|\n",
            "| HillaryClinton|I love this count...|\n",
            "| HillaryClinton|We dont want to t...|\n",
            "| HillaryClinton|What we hear from...|\n",
            "| HillaryClinton|One candidate mad...|\n",
            "| HillaryClinton|What kind of a pe...|\n",
            "| HillaryClinton|I dont think that...|\n",
            "+---------------+--------------------+\n",
            "only showing top 20 rows\n",
            "\n"
          ],
          "name": "stdout"
        }
      ]
    },
    {
      "cell_type": "code",
      "metadata": {
        "colab_type": "code",
        "id": "4BbzYExyNYCR",
        "colab": {
          "base_uri": "https://localhost:8080/",
          "height": 459
        },
        "outputId": "9422bd12-96d4-4901-ad6a-bb463f6572fe"
      },
      "source": [
        "from pyspark.sql.functions import length\n",
        "# Create a length column to be used as a future feature \n",
        "data_df = df.withColumn('length', length(df['text']))\n",
        "data_df.show()"
      ],
      "execution_count": 4,
      "outputs": [
        {
          "output_type": "stream",
          "text": [
            "+---------------+--------------------+------+\n",
            "|         handle|                text|length|\n",
            "+---------------+--------------------+------+\n",
            "| HillaryClinton|The question in t...|    95|\n",
            "| HillaryClinton|If we stand toget...|    76|\n",
            "| HillaryClinton|Both candidates w...|    95|\n",
            "|realDonaldTrump|Join me for a 3pm...|    89|\n",
            "| HillaryClinton|This election is ...|   109|\n",
            "| HillaryClinton|When Donald Trump...|    42|\n",
            "|realDonaldTrump|Once again we wil...|    86|\n",
            "|realDonaldTrump|Hillary Clintons ...|    84|\n",
            "|realDonaldTrump|CNBC Time magazin...|   101|\n",
            "| HillaryClinton|Donald Trump lied...|   106|\n",
            "|realDonaldTrump|Great afternoon i...|   102|\n",
            "|realDonaldTrump|In the last 24 hr...|   132|\n",
            "| HillaryClinton|She gained about ...|   106|\n",
            "| HillaryClinton|Its NationalVoter...|    65|\n",
            "| HillaryClinton|I love this count...|   116|\n",
            "| HillaryClinton|We dont want to t...|   130|\n",
            "| HillaryClinton|What we hear from...|   108|\n",
            "| HillaryClinton|One candidate mad...|   111|\n",
            "| HillaryClinton|What kind of a pe...|   133|\n",
            "| HillaryClinton|I dont think that...|    98|\n",
            "+---------------+--------------------+------+\n",
            "only showing top 20 rows\n",
            "\n"
          ],
          "name": "stdout"
        }
      ]
    },
    {
      "cell_type": "markdown",
      "metadata": {
        "colab_type": "text",
        "id": "od7Qj0sxNYCW"
      },
      "source": [
        "### Feature Transformations\n"
      ]
    },
    {
      "cell_type": "code",
      "metadata": {
        "colab_type": "code",
        "id": "59dwxefsNYCX",
        "colab": {}
      },
      "source": [
        "from pyspark.ml.feature import Tokenizer, StopWordsRemover, HashingTF, IDF, StringIndexer\n",
        "# Create all the features to the data set\n",
        "pos_neg_to_num = StringIndexer(inputCol='handle',outputCol='label')\n",
        "tokenizer = Tokenizer(inputCol=\"text\", outputCol=\"token_text\")\n",
        "stopremove = StopWordsRemover(inputCol='token_text',outputCol='stop_tokens')\n",
        "hashingTF = HashingTF(inputCol=\"stop_tokens\", outputCol='hash_token')\n",
        "idf = IDF(inputCol='hash_token', outputCol='idf_token')\n"
      ],
      "execution_count": 5,
      "outputs": []
    },
    {
      "cell_type": "code",
      "metadata": {
        "id": "rVdfYYs6qfXY",
        "colab_type": "code",
        "colab": {
          "base_uri": "https://localhost:8080/",
          "height": 459
        },
        "outputId": "33ef0057-4542-4036-9fa7-2435dbb69df3"
      },
      "source": [
        "data_df.show()"
      ],
      "execution_count": 6,
      "outputs": [
        {
          "output_type": "stream",
          "text": [
            "+---------------+--------------------+------+\n",
            "|         handle|                text|length|\n",
            "+---------------+--------------------+------+\n",
            "| HillaryClinton|The question in t...|    95|\n",
            "| HillaryClinton|If we stand toget...|    76|\n",
            "| HillaryClinton|Both candidates w...|    95|\n",
            "|realDonaldTrump|Join me for a 3pm...|    89|\n",
            "| HillaryClinton|This election is ...|   109|\n",
            "| HillaryClinton|When Donald Trump...|    42|\n",
            "|realDonaldTrump|Once again we wil...|    86|\n",
            "|realDonaldTrump|Hillary Clintons ...|    84|\n",
            "|realDonaldTrump|CNBC Time magazin...|   101|\n",
            "| HillaryClinton|Donald Trump lied...|   106|\n",
            "|realDonaldTrump|Great afternoon i...|   102|\n",
            "|realDonaldTrump|In the last 24 hr...|   132|\n",
            "| HillaryClinton|She gained about ...|   106|\n",
            "| HillaryClinton|Its NationalVoter...|    65|\n",
            "| HillaryClinton|I love this count...|   116|\n",
            "| HillaryClinton|We dont want to t...|   130|\n",
            "| HillaryClinton|What we hear from...|   108|\n",
            "| HillaryClinton|One candidate mad...|   111|\n",
            "| HillaryClinton|What kind of a pe...|   133|\n",
            "| HillaryClinton|I dont think that...|    98|\n",
            "+---------------+--------------------+------+\n",
            "only showing top 20 rows\n",
            "\n"
          ],
          "name": "stdout"
        }
      ]
    },
    {
      "cell_type": "code",
      "metadata": {
        "colab_type": "code",
        "id": "yssO0_Q5NYCb",
        "colab": {}
      },
      "source": [
        "from pyspark.ml.feature import VectorAssembler\n",
        "from pyspark.ml.linalg import Vector\n",
        "\n",
        "# Create feature vectors\n",
        "clean_up = VectorAssembler(inputCols=['idf_token', 'length'], outputCol='features')"
      ],
      "execution_count": 7,
      "outputs": []
    },
    {
      "cell_type": "code",
      "metadata": {
        "colab_type": "code",
        "id": "E_YyUpR3NYCf",
        "colab": {}
      },
      "source": [
        "# Create a and run a data processing Pipeline\n",
        "from pyspark.ml import Pipeline\n",
        "data_prep_pipeline = Pipeline(stages=[pos_neg_to_num, tokenizer, stopremove, hashingTF, idf, clean_up])"
      ],
      "execution_count": 8,
      "outputs": []
    },
    {
      "cell_type": "code",
      "metadata": {
        "colab_type": "code",
        "id": "qBViHQOaNYCj",
        "colab": {}
      },
      "source": [
        "# Fit and transform the pipeline\n",
        "cleaner = data_prep_pipeline.fit(data_df)\n",
        "cleaned = cleaner.transform(data_df)"
      ],
      "execution_count": 9,
      "outputs": []
    },
    {
      "cell_type": "code",
      "metadata": {
        "colab_type": "code",
        "id": "kDODyxF7NYCn",
        "colab": {
          "base_uri": "https://localhost:8080/",
          "height": 459
        },
        "outputId": "f72025f1-6ac2-4cf5-f8fc-295bf85c0602"
      },
      "source": [
        "# Show label and resulting features\n",
        "cleaned.show()"
      ],
      "execution_count": 10,
      "outputs": [
        {
          "output_type": "stream",
          "text": [
            "+---------------+--------------------+------+-----+--------------------+--------------------+--------------------+--------------------+--------------------+\n",
            "|         handle|                text|length|label|          token_text|         stop_tokens|          hash_token|           idf_token|            features|\n",
            "+---------------+--------------------+------+-----+--------------------+--------------------+--------------------+--------------------+--------------------+\n",
            "| HillaryClinton|The question in t...|    95|  1.0|[the, question, i...|[question, electi...|(262144,[75042,89...|(262144,[75042,89...|(262145,[75042,89...|\n",
            "| HillaryClinton|If we stand toget...|    76|  1.0|[if, we, stand, t...|[stand, together,...|(262144,[37598,46...|(262144,[37598,46...|(262145,[37598,46...|\n",
            "| HillaryClinton|Both candidates w...|    95|  1.0|[both, candidates...|[candidates, aske...|(262144,[53231,84...|(262144,[53231,84...|(262145,[53231,84...|\n",
            "|realDonaldTrump|Join me for a 3pm...|    89|  0.0|[join, me, for, a...|[join, 3pm, rally...|(262144,[29129,55...|(262144,[29129,55...|(262145,[29129,55...|\n",
            "| HillaryClinton|This election is ...|   109|  1.0|[this, election, ...|[election, import...|(262144,[15554,40...|(262144,[15554,40...|(262145,[15554,40...|\n",
            "| HillaryClinton|When Donald Trump...|    42|  1.0|[when, donald, tr...|[donald, trump, g...|(262144,[7612,259...|(262144,[7612,259...|(262145,[7612,259...|\n",
            "|realDonaldTrump|Once again we wil...|    86|  0.0|[once, again, we,...|[government, peop...|(262144,[56858,11...|(262144,[56858,11...|(262145,[56858,11...|\n",
            "|realDonaldTrump|Hillary Clintons ...|    84|  0.0|[hillary, clinton...|[hillary, clinton...|(262144,[18737,59...|(262144,[18737,59...|(262145,[18737,59...|\n",
            "|realDonaldTrump|CNBC Time magazin...|   101|  0.0|[cnbc, time, maga...|[cnbc, time, maga...|(262144,[7612,191...|(262144,[7612,191...|(262145,[7612,191...|\n",
            "| HillaryClinton|Donald Trump lied...|   106|  1.0|[donald, trump, l...|[donald, trump, l...|(262144,[1558,761...|(262144,[1558,761...|(262145,[1558,761...|\n",
            "|realDonaldTrump|Great afternoon i...|   102|  0.0|[great, afternoon...|[great, afternoon...|(262144,[26813,60...|(262144,[26813,60...|(262145,[26813,60...|\n",
            "|realDonaldTrump|In the last 24 hr...|   132|  0.0|[in, the, last, 2...|[last, 24, hrs, r...|(262144,[5381,139...|(262144,[5381,139...|(262145,[5381,139...|\n",
            "| HillaryClinton|She gained about ...|   106|  1.0|[she, gained, abo...|[gained, 55, poun...|(262144,[1836,761...|(262144,[1836,761...|(262145,[1836,761...|\n",
            "| HillaryClinton|Its NationalVoter...|    65|  1.0|[its, nationalvot...|[nationalvoterreg...|(262144,[789,4991...|(262144,[789,4991...|(262145,[789,4991...|\n",
            "| HillaryClinton|I love this count...|   116|  1.0|[i, love, this, c...|[love, country, i...|(262144,[50674,79...|(262144,[50674,79...|(262145,[50674,79...|\n",
            "| HillaryClinton|We dont want to t...|   130|  1.0|[we, dont, want, ...|[dont, want, turn...|(262144,[13100,30...|(262144,[13100,30...|(262145,[13100,30...|\n",
            "| HillaryClinton|What we hear from...|   108|  1.0|[what, we, hear, ...|[hear, opponent, ...|(262144,[27669,62...|(262144,[27669,62...|(262145,[27669,62...|\n",
            "| HillaryClinton|One candidate mad...|   111|  1.0|[one, candidate, ...|[one, candidate, ...|(262144,[1156,538...|(262144,[1156,538...|(262145,[1156,538...|\n",
            "| HillaryClinton|What kind of a pe...|   133|  1.0|[what, kind, of, ...|[kind, person, wa...|(262144,[6061,761...|(262144,[6061,761...|(262145,[6061,761...|\n",
            "| HillaryClinton|I dont think that...|    98|  1.0|[i, dont, think, ...|[dont, think, fam...|(262144,[32927,55...|(262144,[32927,55...|(262145,[32927,55...|\n",
            "+---------------+--------------------+------+-----+--------------------+--------------------+--------------------+--------------------+--------------------+\n",
            "only showing top 20 rows\n",
            "\n"
          ],
          "name": "stdout"
        }
      ]
    },
    {
      "cell_type": "code",
      "metadata": {
        "colab_type": "code",
        "id": "WzfCQmrVNYCr",
        "colab": {}
      },
      "source": [
        "from pyspark.ml.classification import NaiveBayes\n",
        "# Break data down into a training set and a testing set\n",
        "training, testing = cleaned.randomSplit([0.7, 0.3])\n",
        "#split csv into training and testing csvs, clean both, and use testing file in thing below\n",
        "#testing.show()\n",
        "# Create a Naive Bayes model and fit training data\n",
        "nb = NaiveBayes()\n",
        "predictor = nb.fit(training)\n",
        "\n"
      ],
      "execution_count": 11,
      "outputs": []
    },
    {
      "cell_type": "code",
      "metadata": {
        "id": "bXDZ1NtpED32",
        "colab_type": "code",
        "colab": {
          "base_uri": "https://localhost:8080/",
          "height": 34
        },
        "outputId": "f6cac1b5-3ff9-4041-d562-a836463717ff"
      },
      "source": [
        "predictor"
      ],
      "execution_count": 12,
      "outputs": [
        {
          "output_type": "execute_result",
          "data": {
            "text/plain": [
              "NaiveBayes_328a856c1eee"
            ]
          },
          "metadata": {
            "tags": []
          },
          "execution_count": 12
        }
      ]
    },
    {
      "cell_type": "code",
      "metadata": {
        "id": "Y1xpcQDEE40h",
        "colab_type": "code",
        "colab": {}
      },
      "source": [
        ""
      ],
      "execution_count": null,
      "outputs": []
    },
    {
      "cell_type": "code",
      "metadata": {
        "colab_type": "code",
        "id": "zeckHhg5NYCv",
        "colab": {
          "base_uri": "https://localhost:8080/",
          "height": 224
        },
        "outputId": "aa08320c-d161-4235-c5a8-741c5fbf7991"
      },
      "source": [
        "# Tranform the model with the testing data\n",
        "test_results = predictor.transform(testing)\n",
        "test_results.show(5)"
      ],
      "execution_count": 13,
      "outputs": [
        {
          "output_type": "stream",
          "text": [
            "+--------------+--------------------+------+-----+--------------------+--------------------+--------------------+--------------------+--------------------+--------------------+--------------------+----------+\n",
            "|        handle|                text|length|label|          token_text|         stop_tokens|          hash_token|           idf_token|            features|       rawPrediction|         probability|prediction|\n",
            "+--------------+--------------------+------+-----+--------------------+--------------------+--------------------+--------------------+--------------------+--------------------+--------------------+----------+\n",
            "|HillaryClinton|14 We know you en...|   118|  1.0|[14, we, know, yo...|[14, know, engage...|(262144,[17893,18...|(262144,[17893,18...|(262145,[17893,18...|[-984.52661116209...|[2.25317417619603...|       1.0|\n",
            "|HillaryClinton|16 Youve mentione...|   131|  1.0|[16, youve, menti...|[16, youve, menti...|(262144,[5083,147...|(262144,[5083,147...|(262145,[5083,147...|[-873.61686724825...|[1.0,1.3044111236...|       0.0|\n",
            "|HillaryClinton|20 years ago when...|   130|  1.0|[20, years, ago, ...|[20, years, ago, ...|(262144,[5232,120...|(262144,[5232,120...|(262145,[5232,120...|[-1039.9612173554...|[0.99999903187201...|       0.0|\n",
            "|HillaryClinton|2016 and counting...|    95|  1.0|[2016, and, count...|[2016, counting, ...|(262144,[3973,211...|(262144,[3973,211...|(262145,[3973,211...|[-662.10285788865...|[0.99999999697691...|       0.0|\n",
            "|HillaryClinton|22 memorable mome...|    76|  1.0|[22, memorable, m...|[22, memorable, m...|(262144,[38801,46...|(262144,[38801,46...|(262145,[38801,46...|[-571.89442656599...|[0.99988672183156...|       0.0|\n",
            "+--------------+--------------------+------+-----+--------------------+--------------------+--------------------+--------------------+--------------------+--------------------+--------------------+----------+\n",
            "only showing top 5 rows\n",
            "\n"
          ],
          "name": "stdout"
        }
      ]
    },
    {
      "cell_type": "code",
      "metadata": {
        "colab_type": "code",
        "id": "OVFrWcHINYCz",
        "colab": {
          "base_uri": "https://localhost:8080/",
          "height": 34
        },
        "outputId": "587915a4-83e7-4efb-b360-0e11adca23fe"
      },
      "source": [
        "# Use the Class Evaluator for a cleaner description\n",
        "from pyspark.ml.evaluation import MulticlassClassificationEvaluator\n",
        "\n",
        "acc_eval = MulticlassClassificationEvaluator()\n",
        "acc = acc_eval.evaluate(test_results)\n",
        "print(\"Accuracy of model at predicting reviews was: %f\" % acc)"
      ],
      "execution_count": 14,
      "outputs": [
        {
          "output_type": "stream",
          "text": [
            "Accuracy of model at predicting reviews was: 0.904699\n"
          ],
          "name": "stdout"
        }
      ]
    },
    {
      "cell_type": "code",
      "metadata": {
        "colab_type": "code",
        "id": "bOpKc638NlCQ",
        "colab": {}
      },
      "source": [
        ""
      ],
      "execution_count": null,
      "outputs": []
    },
    {
      "cell_type": "code",
      "metadata": {
        "colab_type": "code",
        "id": "7w4sfgO3G8IN",
        "colab": {
          "base_uri": "https://localhost:8080/",
          "height": 136
        },
        "outputId": "5b3aa8c8-a644-44bc-e8e9-e3808668d876"
      },
      "source": [
        "testing.limit(2).show()"
      ],
      "execution_count": null,
      "outputs": [
        {
          "output_type": "stream",
          "text": [
            "+--------------+--------------------+------+-----+--------------------+--------------------+--------------------+--------------------+--------------------+\n",
            "|        handle|                text|length|label|          token_text|         stop_tokens|          hash_token|           idf_token|            features|\n",
            "+--------------+--------------------+------+-----+--------------------+--------------------+--------------------+--------------------+--------------------+\n",
            "|HillaryClinton|14 We know you en...|   118|  1.0|[14, we, know, yo...|[14, know, engage...|(262144,[17893,18...|(262144,[17893,18...|(262145,[17893,18...|\n",
            "|HillaryClinton|16 Youve mentione...|   131|  1.0|[16, youve, menti...|[16, youve, menti...|(262144,[5083,147...|(262144,[5083,147...|(262145,[5083,147...|\n",
            "+--------------+--------------------+------+-----+--------------------+--------------------+--------------------+--------------------+--------------------+\n",
            "\n"
          ],
          "name": "stdout"
        }
      ]
    },
    {
      "cell_type": "code",
      "metadata": {
        "colab_type": "code",
        "id": "AiLHtTWcG8IU",
        "colab": {
          "base_uri": "https://localhost:8080/",
          "height": 479
        },
        "outputId": "82ede5e2-d4a1-48a6-fddc-df89654fd4d3"
      },
      "source": [
        "example=predictor.transform(testing)\n",
        "example.show()"
      ],
      "execution_count": 56,
      "outputs": [
        {
          "output_type": "stream",
          "text": [
            "+--------------+--------------------+------+-----+--------------------+--------------------+--------------------+--------------------+--------------------+--------------------+--------------------+----------+\n",
            "|        handle|                text|length|label|          token_text|         stop_tokens|          hash_token|           idf_token|            features|       rawPrediction|         probability|prediction|\n",
            "+--------------+--------------------+------+-----+--------------------+--------------------+--------------------+--------------------+--------------------+--------------------+--------------------+----------+\n",
            "|HillaryClinton|14 We know you en...|   118|  1.0|[14, we, know, yo...|[14, know, engage...|(262144,[17893,18...|(262144,[17893,18...|(262145,[17893,18...|[-984.52661116209...|[2.25317417619603...|       1.0|\n",
            "|HillaryClinton|16 Youve mentione...|   131|  1.0|[16, youve, menti...|[16, youve, menti...|(262144,[5083,147...|(262144,[5083,147...|(262145,[5083,147...|[-873.61686724825...|[1.0,1.3044111236...|       0.0|\n",
            "|HillaryClinton|20 years ago when...|   130|  1.0|[20, years, ago, ...|[20, years, ago, ...|(262144,[5232,120...|(262144,[5232,120...|(262145,[5232,120...|[-1039.9612173554...|[0.99999903187201...|       0.0|\n",
            "|HillaryClinton|2016 and counting...|    95|  1.0|[2016, and, count...|[2016, counting, ...|(262144,[3973,211...|(262144,[3973,211...|(262145,[3973,211...|[-662.10285788865...|[0.99999999697691...|       0.0|\n",
            "|HillaryClinton|22 memorable mome...|    76|  1.0|[22, memorable, m...|[22, memorable, m...|(262144,[38801,46...|(262144,[38801,46...|(262145,[38801,46...|[-571.89442656599...|[0.99988672183156...|       0.0|\n",
            "|HillaryClinton|6 Given that youv...|    96|  1.0|[6, given, that, ...|[6, given, youve,...|(262144,[14799,18...|(262144,[14799,18...|(262145,[14799,18...|[-734.81158828836...|[0.99999999999847...|       0.0|\n",
            "|HillaryClinton|7 ways Donald Tru...|    87|  1.0|[7, ways, donald,...|[7, ways, donald,...|(262144,[4312,761...|(262144,[4312,761...|(262145,[4312,761...|[-659.85748342439...|[7.06361146141440...|       1.0|\n",
            "|HillaryClinton|72 years after DD...|   133|  1.0|[72, years, after...|[72, years, dday,...|(262144,[2710,357...|(262144,[2710,357...|(262145,[2710,357...|[-1034.6019556456...|[5.47996958394305...|       1.0|\n",
            "|HillaryClinton|8 Will you disclo...|   125|  1.0|[8, will, you, di...|[8, disclose, nat...|(262144,[5593,382...|(262144,[5593,382...|(262145,[5593,382...|[-802.41642749571...|[1.98812280897735...|       1.0|\n",
            "|HillaryClinton|8 ways we can giv...|    98|  1.0|[8, ways, we, can...|[8, ways, give, m...|(262144,[43949,82...|(262144,[43949,82...|(262145,[43949,82...|[-703.84923846772...|[2.14711293641027...|       1.0|\n",
            "|HillaryClinton|9 Have you or you...|   117|  1.0|[9, have, you, or...|[9, campaign, dis...|(262144,[14799,54...|(262144,[14799,54...|(262145,[14799,54...|[-848.31556889113...|[2.14983479472208...|       1.0|\n",
            "|HillaryClinton|A candidate who r...|   111|  1.0|[a, candidate, wh...|[candidate, roots...|(262144,[1156,322...|(262144,[1156,322...|(262145,[1156,322...|[-762.49769919392...|[1.38937685004557...|       1.0|\n",
            "|HillaryClinton|A disability shou...|   104|  1.0|[a, disability, s...|[disability, shou...|(262144,[6438,742...|(262144,[6438,742...|(262145,[6438,742...|[-812.78360650440...|[4.52297090787100...|       1.0|\n",
            "|HillaryClinton|A few things you ...|    91|  1.0|[a, few, things, ...|[things, know, tr...|(262144,[42239,46...|(262144,[42239,46...|(262145,[42239,46...|[-637.52917895419...|[5.50207904435562...|       1.0|\n",
            "|HillaryClinton|A former McCain a...|   109|  1.0|[a, former, mccai...|[former, mccain, ...|(262144,[21872,30...|(262144,[21872,30...|(262145,[21872,30...|[-821.17727275780...|[4.61149334832669...|       1.0|\n",
            "|HillaryClinton|A fouryear degree...|   133|  1.0|[a, fouryear, deg...|[fouryear, degree...|(262144,[3373,618...|(262144,[3373,618...|(262145,[3373,618...|[-986.52674599843...|[9.46136339458414...|       1.0|\n",
            "|HillaryClinton|A lifetimes commi...|   107|  1.0|[a, lifetimes, co...|[lifetimes, commi...|(262144,[28656,32...|(262144,[28656,32...|(262145,[28656,32...|[-732.72344049449...|[2.14175514418099...|       1.0|\n",
            "|HillaryClinton|A man you can bai...|    86|  1.0|[a, man, you, can...|[man, bait, tweet...|(262144,[24918,79...|(262144,[24918,79...|(262145,[24918,79...|[-530.02469817246...|[1.19905557557552...|       1.0|\n",
            "|HillaryClinton| A note from Hillary|    19|  1.0|[a, note, from, h...|     [note, hillary]|(262144,[43157,79...|(262144,[43157,79...|(262145,[43157,79...|[-130.04917572597...|[1.56290224037609...|       1.0|\n",
            "|HillaryClinton|A proven leader w...|    99|  1.0|[a, proven, leade...|[proven, leader, ...|(262144,[24335,75...|(262144,[24335,75...|(262145,[24335,75...|[-870.76672914198...|[0.01988185607512...|       1.0|\n",
            "+--------------+--------------------+------+-----+--------------------+--------------------+--------------------+--------------------+--------------------+--------------------+--------------------+----------+\n",
            "only showing top 20 rows\n",
            "\n"
          ],
          "name": "stdout"
        }
      ]
    },
    {
      "cell_type": "code",
      "metadata": {
        "id": "eAKvm6gLHS56",
        "colab_type": "code",
        "colab": {
          "base_uri": "https://localhost:8080/",
          "height": 459
        },
        "outputId": "c143c254-139b-4167-9f3d-7f3fc1a5ab35"
      },
      "source": [
        "testing.show()"
      ],
      "execution_count": 54,
      "outputs": [
        {
          "output_type": "stream",
          "text": [
            "+--------------+--------------------+------+-----+--------------------+--------------------+--------------------+--------------------+--------------------+\n",
            "|        handle|                text|length|label|          token_text|         stop_tokens|          hash_token|           idf_token|            features|\n",
            "+--------------+--------------------+------+-----+--------------------+--------------------+--------------------+--------------------+--------------------+\n",
            "|HillaryClinton|14 We know you en...|   118|  1.0|[14, we, know, yo...|[14, know, engage...|(262144,[17893,18...|(262144,[17893,18...|(262145,[17893,18...|\n",
            "|HillaryClinton|16 Youve mentione...|   131|  1.0|[16, youve, menti...|[16, youve, menti...|(262144,[5083,147...|(262144,[5083,147...|(262145,[5083,147...|\n",
            "|HillaryClinton|20 years ago when...|   130|  1.0|[20, years, ago, ...|[20, years, ago, ...|(262144,[5232,120...|(262144,[5232,120...|(262145,[5232,120...|\n",
            "|HillaryClinton|2016 and counting...|    95|  1.0|[2016, and, count...|[2016, counting, ...|(262144,[3973,211...|(262144,[3973,211...|(262145,[3973,211...|\n",
            "|HillaryClinton|22 memorable mome...|    76|  1.0|[22, memorable, m...|[22, memorable, m...|(262144,[38801,46...|(262144,[38801,46...|(262145,[38801,46...|\n",
            "|HillaryClinton|6 Given that youv...|    96|  1.0|[6, given, that, ...|[6, given, youve,...|(262144,[14799,18...|(262144,[14799,18...|(262145,[14799,18...|\n",
            "|HillaryClinton|7 ways Donald Tru...|    87|  1.0|[7, ways, donald,...|[7, ways, donald,...|(262144,[4312,761...|(262144,[4312,761...|(262145,[4312,761...|\n",
            "|HillaryClinton|72 years after DD...|   133|  1.0|[72, years, after...|[72, years, dday,...|(262144,[2710,357...|(262144,[2710,357...|(262145,[2710,357...|\n",
            "|HillaryClinton|8 Will you disclo...|   125|  1.0|[8, will, you, di...|[8, disclose, nat...|(262144,[5593,382...|(262144,[5593,382...|(262145,[5593,382...|\n",
            "|HillaryClinton|8 ways we can giv...|    98|  1.0|[8, ways, we, can...|[8, ways, give, m...|(262144,[43949,82...|(262144,[43949,82...|(262145,[43949,82...|\n",
            "|HillaryClinton|9 Have you or you...|   117|  1.0|[9, have, you, or...|[9, campaign, dis...|(262144,[14799,54...|(262144,[14799,54...|(262145,[14799,54...|\n",
            "|HillaryClinton|A candidate who r...|   111|  1.0|[a, candidate, wh...|[candidate, roots...|(262144,[1156,322...|(262144,[1156,322...|(262145,[1156,322...|\n",
            "|HillaryClinton|A disability shou...|   104|  1.0|[a, disability, s...|[disability, shou...|(262144,[6438,742...|(262144,[6438,742...|(262145,[6438,742...|\n",
            "|HillaryClinton|A few things you ...|    91|  1.0|[a, few, things, ...|[things, know, tr...|(262144,[42239,46...|(262144,[42239,46...|(262145,[42239,46...|\n",
            "|HillaryClinton|A former McCain a...|   109|  1.0|[a, former, mccai...|[former, mccain, ...|(262144,[21872,30...|(262144,[21872,30...|(262145,[21872,30...|\n",
            "|HillaryClinton|A fouryear degree...|   133|  1.0|[a, fouryear, deg...|[fouryear, degree...|(262144,[3373,618...|(262144,[3373,618...|(262145,[3373,618...|\n",
            "|HillaryClinton|A lifetimes commi...|   107|  1.0|[a, lifetimes, co...|[lifetimes, commi...|(262144,[28656,32...|(262144,[28656,32...|(262145,[28656,32...|\n",
            "|HillaryClinton|A man you can bai...|    86|  1.0|[a, man, you, can...|[man, bait, tweet...|(262144,[24918,79...|(262144,[24918,79...|(262145,[24918,79...|\n",
            "|HillaryClinton| A note from Hillary|    19|  1.0|[a, note, from, h...|     [note, hillary]|(262144,[43157,79...|(262144,[43157,79...|(262145,[43157,79...|\n",
            "|HillaryClinton|A proven leader w...|    99|  1.0|[a, proven, leade...|[proven, leader, ...|(262144,[24335,75...|(262144,[24335,75...|(262145,[24335,75...|\n",
            "+--------------+--------------------+------+-----+--------------------+--------------------+--------------------+--------------------+--------------------+\n",
            "only showing top 20 rows\n",
            "\n"
          ],
          "name": "stdout"
        }
      ]
    },
    {
      "cell_type": "code",
      "metadata": {
        "id": "U1-oVAyrE5wI",
        "colab_type": "code",
        "colab": {
          "base_uri": "https://localhost:8080/",
          "height": 34
        },
        "outputId": "a245564f-680c-4306-8960-ed3634aee192"
      },
      "source": [
        "acc = acc_eval.evaluate(example2)\n",
        "print(\"Accuracy of model at predicting reviews was: %f\" % acc)"
      ],
      "execution_count": null,
      "outputs": [
        {
          "output_type": "stream",
          "text": [
            "Accuracy of model at predicting reviews was: 0.666667\n"
          ],
          "name": "stdout"
        }
      ]
    },
    {
      "cell_type": "code",
      "metadata": {
        "id": "K5xfe5AiHllM",
        "colab_type": "code",
        "colab": {}
      },
      "source": [
        "predictor.transform(testing.limit(1))\n",
        "x=predictor.transform(testing.limit(1))"
      ],
      "execution_count": 31,
      "outputs": []
    },
    {
      "cell_type": "code",
      "metadata": {
        "id": "KHyvGJWqIVwK",
        "colab_type": "code",
        "colab": {
          "base_uri": "https://localhost:8080/",
          "height": 139
        },
        "outputId": "f662b0a8-813b-417f-e432-d78c125e898c"
      },
      "source": [
        "x.show()"
      ],
      "execution_count": 35,
      "outputs": [
        {
          "output_type": "stream",
          "text": [
            "+--------------+--------------------+------+-----+--------------------+--------------------+--------------------+--------------------+--------------------+--------------------+--------------------+----------+\n",
            "|        handle|                text|length|label|          token_text|         stop_tokens|          hash_token|           idf_token|            features|       rawPrediction|         probability|prediction|\n",
            "+--------------+--------------------+------+-----+--------------------+--------------------+--------------------+--------------------+--------------------+--------------------+--------------------+----------+\n",
            "|HillaryClinton|14 We know you en...|   118|  1.0|[14, we, know, yo...|[14, know, engage...|(262144,[17893,18...|(262144,[17893,18...|(262145,[17893,18...|[-984.52661116209...|[2.25317417619603...|       1.0|\n",
            "+--------------+--------------------+------+-----+--------------------+--------------------+--------------------+--------------------+--------------------+--------------------+--------------------+----------+\n",
            "\n"
          ],
          "name": "stdout"
        }
      ]
    },
    {
      "cell_type": "code",
      "metadata": {
        "id": "HaGoG6rJH_lq",
        "colab_type": "code",
        "colab": {
          "base_uri": "https://localhost:8080/",
          "height": 119
        },
        "outputId": "80439454-7921-4464-870a-b25b03470e0b"
      },
      "source": [
        "testing.limit(1).show()"
      ],
      "execution_count": 52,
      "outputs": [
        {
          "output_type": "stream",
          "text": [
            "+--------------+--------------------+------+-----+--------------------+--------------------+--------------------+--------------------+--------------------+\n",
            "|        handle|                text|length|label|          token_text|         stop_tokens|          hash_token|           idf_token|            features|\n",
            "+--------------+--------------------+------+-----+--------------------+--------------------+--------------------+--------------------+--------------------+\n",
            "|HillaryClinton|14 We know you en...|   118|  1.0|[14, we, know, yo...|[14, know, engage...|(262144,[17893,18...|(262144,[17893,18...|(262145,[17893,18...|\n",
            "+--------------+--------------------+------+-----+--------------------+--------------------+--------------------+--------------------+--------------------+\n",
            "\n"
          ],
          "name": "stdout"
        }
      ]
    },
    {
      "cell_type": "code",
      "metadata": {
        "id": "7xC-Qhp8ImX_",
        "colab_type": "code",
        "colab": {}
      },
      "source": [
        "tweet = testing.limit(1)"
      ],
      "execution_count": 45,
      "outputs": []
    },
    {
      "cell_type": "code",
      "metadata": {
        "id": "VWOtKLbLLhiP",
        "colab_type": "code",
        "colab": {
          "base_uri": "https://localhost:8080/",
          "height": 119
        },
        "outputId": "28b3eb6d-ee31-48c1-92d3-5f3c80cbcd07"
      },
      "source": [
        "tweet.show()"
      ],
      "execution_count": 46,
      "outputs": [
        {
          "output_type": "stream",
          "text": [
            "+--------------+--------------------+------+-----+--------------------+--------------------+--------------------+--------------------+--------------------+\n",
            "|        handle|                text|length|label|          token_text|         stop_tokens|          hash_token|           idf_token|            features|\n",
            "+--------------+--------------------+------+-----+--------------------+--------------------+--------------------+--------------------+--------------------+\n",
            "|HillaryClinton|14 We know you en...|   118|  1.0|[14, we, know, yo...|[14, know, engage...|(262144,[17893,18...|(262144,[17893,18...|(262145,[17893,18...|\n",
            "+--------------+--------------------+------+-----+--------------------+--------------------+--------------------+--------------------+--------------------+\n",
            "\n"
          ],
          "name": "stdout"
        }
      ]
    },
    {
      "cell_type": "code",
      "metadata": {
        "id": "LVmWvAi8I96y",
        "colab_type": "code",
        "colab": {}
      },
      "source": [
        "tweet = tweet.select(['features'])"
      ],
      "execution_count": 47,
      "outputs": []
    },
    {
      "cell_type": "code",
      "metadata": {
        "id": "1MjiNdqxJCzQ",
        "colab_type": "code",
        "colab": {}
      },
      "source": [
        "result = predictor.transform(tweet)"
      ],
      "execution_count": 49,
      "outputs": []
    },
    {
      "cell_type": "code",
      "metadata": {
        "id": "C0eUeOcXLUO7",
        "colab_type": "code",
        "colab": {
          "base_uri": "https://localhost:8080/",
          "height": 119
        },
        "outputId": "06624b8b-6886-4448-8694-44fc6b42f6b4"
      },
      "source": [
        "result.show()"
      ],
      "execution_count": 50,
      "outputs": [
        {
          "output_type": "stream",
          "text": [
            "+--------------------+--------------------+--------------------+----------+\n",
            "|            features|       rawPrediction|         probability|prediction|\n",
            "+--------------------+--------------------+--------------------+----------+\n",
            "|(262145,[17893,18...|[-984.52661116209...|[2.25317417619603...|       1.0|\n",
            "+--------------------+--------------------+--------------------+----------+\n",
            "\n"
          ],
          "name": "stdout"
        }
      ]
    },
    {
      "cell_type": "code",
      "metadata": {
        "id": "X9yqpvCxLrpQ",
        "colab_type": "code",
        "colab": {}
      },
      "source": [
        "Lyin Ted Cruz will never be able to beat Hillary Despite a rigged delegate system I am hundreds of delegates ahead of him\n",
        "Ill be in one of my favorite places this morning Staten Island Big crowd will be fun!\n",
        "MakeAmericaGreatAgain NYPrimary\n",
        "Thank you California Connecticut Maryland and Pennsylvania! MakeAmericaGreatAgain Trump2016\n",
        "Just arrived in Syracuse NY Big crowd great place! We will bring back the desperately needed jobs NYPrimary"
      ],
      "execution_count": null,
      "outputs": []
    },
    {
      "cell_type": "code",
      "metadata": {
        "id": "sfAZ_Jh0Q8AL",
        "colab_type": "code",
        "colab": {}
      },
      "source": [
        "input = spark.createDataFrame([(0,\"These comics are made for kids\")], [\"id\",\"text\"])"
      ],
      "execution_count": 126,
      "outputs": []
    },
    {
      "cell_type": "code",
      "metadata": {
        "id": "ExXbf0pgRX5B",
        "colab_type": "code",
        "colab": {
          "base_uri": "https://localhost:8080/",
          "height": 119
        },
        "outputId": "81eadc83-7b25-43b8-ae3b-293e722caf7d"
      },
      "source": [
        "\n",
        "tweet = input.withColumn('length', length(input['text']))\n",
        "prepared_tweet = cleaner.transform(tweet)\n",
        "output = predictor.transform(prepared_tweet)\n",
        "output.select([\"text\",\"prediction\",'probability']).show(truncate=False)"
      ],
      "execution_count": 127,
      "outputs": [
        {
          "output_type": "stream",
          "text": [
            "+-------------------------------+----------+----------------------------------------+\n",
            "|text                           |prediction|probability                             |\n",
            "+-------------------------------+----------+----------------------------------------+\n",
            "|These comics are made for kids!|0.0       |[0.8885188874518979,0.11148111254810224]|\n",
            "+-------------------------------+----------+----------------------------------------+\n",
            "\n"
          ],
          "name": "stdout"
        }
      ]
    },
    {
      "cell_type": "code",
      "metadata": {
        "id": "6r1zcFaDSUmv",
        "colab_type": "code",
        "colab": {}
      },
      "source": [
        ""
      ],
      "execution_count": 113,
      "outputs": []
    },
    {
      "cell_type": "code",
      "metadata": {
        "id": "llot7umESvhV",
        "colab_type": "code",
        "colab": {}
      },
      "source": [
        ""
      ],
      "execution_count": null,
      "outputs": []
    },
    {
      "cell_type": "code",
      "metadata": {
        "id": "mkJV9AutTtTa",
        "colab_type": "code",
        "colab": {}
      },
      "source": [
        ""
      ],
      "execution_count": 91,
      "outputs": []
    },
    {
      "cell_type": "code",
      "metadata": {
        "id": "9PpLu_I6T0fh",
        "colab_type": "code",
        "colab": {
          "base_uri": "https://localhost:8080/",
          "height": 119
        },
        "outputId": "f0f0f345-d7f8-4f5e-c90a-4383f43075cd"
      },
      "source": [
        ""
      ],
      "execution_count": 94,
      "outputs": [
        {
          "output_type": "stream",
          "text": [
            "+------------------------------------------------------------------------------------------------+----------+-------------------------------------------+\n",
            "|text                                                                                            |prediction|probability                                |\n",
            "+------------------------------------------------------------------------------------------------+----------+-------------------------------------------+\n",
            "|Our job between now and election day is to make sure that we keep up the fight for voting rights|1.0       |[2.8336118893364374E-13,0.9999999999997167]|\n",
            "+------------------------------------------------------------------------------------------------+----------+-------------------------------------------+\n",
            "\n"
          ],
          "name": "stdout"
        }
      ]
    },
    {
      "cell_type": "code",
      "metadata": {
        "id": "aopUW55xT12R",
        "colab_type": "code",
        "colab": {}
      },
      "source": [
        ""
      ],
      "execution_count": null,
      "outputs": []
    }
  ]
}